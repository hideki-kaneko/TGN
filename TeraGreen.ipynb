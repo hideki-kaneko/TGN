{
 "cells": [
  {
   "cell_type": "code",
   "execution_count": 2,
   "metadata": {
    "scrolled": true
   },
   "outputs": [],
   "source": [
    "import os\n",
    "from PIL import Image\n",
    "import matplotlib.pyplot as plt\n",
    "import numpy as np\n",
    "from skimage.filters import threshold_otsu\n",
    "import scipy\n",
    "import pandas as pd\n",
    "import cv2\n",
    "from tqdm import tqdm\n",
    "import csv\n",
    "import pickle\n",
    "%matplotlib inline"
   ]
  },
  {
   "cell_type": "code",
   "execution_count": 3,
   "metadata": {},
   "outputs": [],
   "source": [
    "df = pd.read_csv(\"labels.csv\")\n",
    "names = set(df[\"NAME\"])\n",
    "name_to_class = {j:i for i, j in enumerate(names)}\n",
    "id_to_class = {i[0]:name_to_class[i[1]] for i in np.asarray(df)}"
   ]
  },
  {
   "cell_type": "code",
   "execution_count": 4,
   "metadata": {},
   "outputs": [
    {
     "data": {
      "text/html": [
       "<div>\n",
       "<style>\n",
       "    .dataframe thead tr:only-child th {\n",
       "        text-align: right;\n",
       "    }\n",
       "\n",
       "    .dataframe thead th {\n",
       "        text-align: left;\n",
       "    }\n",
       "\n",
       "    .dataframe tbody tr th {\n",
       "        vertical-align: top;\n",
       "    }\n",
       "</style>\n",
       "<table border=\"1\" class=\"dataframe\">\n",
       "  <thead>\n",
       "    <tr style=\"text-align: right;\">\n",
       "      <th></th>\n",
       "      <th>ID</th>\n",
       "      <th>NAME</th>\n",
       "      <th>CLASS</th>\n",
       "      <th>NEURON</th>\n",
       "    </tr>\n",
       "  </thead>\n",
       "  <tbody>\n",
       "    <tr>\n",
       "      <th>0</th>\n",
       "      <td>2</td>\n",
       "      <td>LauralesLauraceaeCinnamomumcamphora</td>\n",
       "      <td>34</td>\n",
       "      <td>27</td>\n",
       "    </tr>\n",
       "    <tr>\n",
       "      <th>1</th>\n",
       "      <td>9</td>\n",
       "      <td>FagalesFagaceaeQuercusglauca</td>\n",
       "      <td>33</td>\n",
       "      <td>26</td>\n",
       "    </tr>\n",
       "    <tr>\n",
       "      <th>2</th>\n",
       "      <td>23</td>\n",
       "      <td>FagalesFagaceaeQuercusglauca</td>\n",
       "      <td>33</td>\n",
       "      <td>26</td>\n",
       "    </tr>\n",
       "    <tr>\n",
       "      <th>3</th>\n",
       "      <td>29</td>\n",
       "      <td>RosalesCannabaceaeCeltissinensis</td>\n",
       "      <td>29</td>\n",
       "      <td>-1</td>\n",
       "    </tr>\n",
       "    <tr>\n",
       "      <th>4</th>\n",
       "      <td>92</td>\n",
       "      <td>LamialesOleaceaeOsmanthus x fortunei</td>\n",
       "      <td>49</td>\n",
       "      <td>-1</td>\n",
       "    </tr>\n",
       "  </tbody>\n",
       "</table>\n",
       "</div>"
      ],
      "text/plain": [
       "   ID                                   NAME  CLASS  NEURON\n",
       "0   2    LauralesLauraceaeCinnamomumcamphora     34      27\n",
       "1   9           FagalesFagaceaeQuercusglauca     33      26\n",
       "2  23           FagalesFagaceaeQuercusglauca     33      26\n",
       "3  29       RosalesCannabaceaeCeltissinensis     29      -1\n",
       "4  92  LamialesOleaceaeOsmanthus x fortunei      49      -1"
      ]
     },
     "execution_count": 4,
     "metadata": {},
     "output_type": "execute_result"
    }
   ],
   "source": [
    "df.head()"
   ]
  },
  {
   "cell_type": "code",
   "execution_count": 5,
   "metadata": {},
   "outputs": [],
   "source": [
    "df[\"CLASS\"] = df[\"ID\"].apply(lambda i: id_to_class[i])"
   ]
  },
  {
   "cell_type": "markdown",
   "metadata": {},
   "source": [
    "## Distribution of class"
   ]
  },
  {
   "cell_type": "code",
   "execution_count": 4,
   "metadata": {},
   "outputs": [
    {
     "data": {
      "text/plain": [
       "<matplotlib.axes._subplots.AxesSubplot at 0x7faa00c75d68>"
      ]
     },
     "execution_count": 4,
     "metadata": {},
     "output_type": "execute_result"
    },
    {
     "data": {
      "image/png": "[encoded data removed]",
      "text/plain": [
       "<Figure size 432x288 with 1 Axes>"
      ]
     },
     "metadata": {},
     "output_type": "display_data"
    }
   ],
   "source": [
    "df = pd.read_csv(\"file-all.lst\", header=None, delimiter=\" \")\n",
    "df[1].hist(bins=50)"
   ]
  },
  {
   "cell_type": "markdown",
   "metadata": {},
   "source": [
    "## Top-N class"
   ]
  },
  {
   "cell_type": "code",
   "execution_count": 5,
   "metadata": {},
   "outputs": [
    {
     "data": {
      "text/plain": [
       "359     16584\n",
       "852     13852\n",
       "655     12382\n",
       "601     10292\n",
       "277      9148\n",
       "265      7886\n",
       "460      5554\n",
       "361      5405\n",
       "136      5341\n",
       "717      4550\n",
       "725      4036\n",
       "755      3609\n",
       "295      3475\n",
       "915      3202\n",
       "109      2957\n",
       "577      2929\n",
       "545      2831\n",
       "198      2802\n",
       "747      2787\n",
       "713      2664\n",
       "590      2597\n",
       "441      2457\n",
       "774      2451\n",
       "1030     2430\n",
       "729      2365\n",
       "2        2313\n",
       "694      2248\n",
       "363      2144\n",
       "274      2014\n",
       "763      1986\n",
       "        ...  \n",
       "23       1126\n",
       "959      1096\n",
       "551      1047\n",
       "9        1028\n",
       "863       973\n",
       "160       958\n",
       "762       943\n",
       "797       876\n",
       "539       844\n",
       "610       790\n",
       "991       781\n",
       "707       779\n",
       "238       777\n",
       "29        765\n",
       "268       762\n",
       "131       757\n",
       "542       713\n",
       "269       712\n",
       "92        692\n",
       "817       664\n",
       "592       633\n",
       "485       559\n",
       "145       542\n",
       "937       522\n",
       "935       319\n",
       "626       299\n",
       "703       283\n",
       "583       271\n",
       "293       120\n",
       "851        13\n",
       "Name: 1, Length: 77, dtype: int64"
      ]
     },
     "execution_count": 5,
     "metadata": {},
     "output_type": "execute_result"
    }
   ],
   "source": [
    "df[1].value_counts().sort_values(ascending=False)"
   ]
  },
  {
   "cell_type": "markdown",
   "metadata": {},
   "source": [
    "## Extract top-N classes"
   ]
  },
  {
   "cell_type": "code",
   "execution_count": 19,
   "metadata": {},
   "outputs": [
    {
     "name": "stdout",
     "output_type": "stream",
     "text": [
      "total27 classes\n"
     ]
    }
   ],
   "source": [
    "THRESHOLD = 2000\n",
    "N_TRAIN = int(THRESHOLD * 0.7)\n",
    "\n",
    "df = pd.read_csv(\"file-all.lst\", header=None, delimiter=\" \")\n",
    "df_train = pd.DataFrame()\n",
    "df_test = pd.DataFrame()\n",
    "count = 0\n",
    "for i in range(max(df[1])+1):\n",
    "    if len(df[(df[1]==i)&(df[1]!=713)&(df[1]!=747)]) >= THRESHOLD:\n",
    "        count += 1\n",
    "        df_sample = df[df[1]==i].sample(n=THRESHOLD)\n",
    "        df_train = df_train.append(df_sample[:N_TRAIN], ignore_index=True)\n",
    "        df_test = df_test.append(df_sample[N_TRAIN:], ignore_index=True)\n",
    "print(\"total{} classes\".format(count))"
   ]
  },
  {
   "cell_type": "markdown",
   "metadata": {},
   "source": [
    "## Save"
   ]
  },
  {
   "cell_type": "code",
   "execution_count": 20,
   "metadata": {},
   "outputs": [],
   "source": [
    "df_train.to_csv(\"train-c{}.lst\".format(count), index=False, header=False)\n",
    "df_test.to_csv(\"test-c{}.lst\".format(count), index=False, header=False)"
   ]
  },
  {
   "cell_type": "code",
   "execution_count": 22,
   "metadata": {},
   "outputs": [],
   "source": [
    "df = pd.read_csv(\"labels.csv\")\n",
    "tr = pd.read_csv(\"train-c{}.lst\".format(count), header=None)\n",
    "labels = set(tr[1])\n",
    "dict_class_neuron = {j:i for i,j in enumerate(labels)}\n",
    "f = lambda x: dict_class_neuron[x] if x in labels else -1\n",
    "df = df.drop(\"NEURON\", axis=1)\n",
    "df[\"NEURON\"] = df[\"CLASS\"].apply(f)\n",
    "\n",
    "with open(\"dict_class_neuron.pkl\", 'wb') as f:\n",
    "     pickle.dump(dict_class_neuron, f)"
   ]
  },
  {
   "cell_type": "code",
   "execution_count": 2,
   "metadata": {},
   "outputs": [
    {
     "data": {
      "text/html": [
       "<div>\n",
       "<style>\n",
       "    .dataframe thead tr:only-child th {\n",
       "        text-align: right;\n",
       "    }\n",
       "\n",
       "    .dataframe thead th {\n",
       "        text-align: left;\n",
       "    }\n",
       "\n",
       "    .dataframe tbody tr th {\n",
       "        vertical-align: top;\n",
       "    }\n",
       "</style>\n",
       "<table border=\"1\" class=\"dataframe\">\n",
       "  <thead>\n",
       "    <tr style=\"text-align: right;\">\n",
       "      <th></th>\n",
       "      <th>ID</th>\n",
       "      <th>NAME</th>\n",
       "      <th>CLASS</th>\n",
       "    </tr>\n",
       "  </thead>\n",
       "  <tbody>\n",
       "    <tr>\n",
       "      <th>0</th>\n",
       "      <td>2</td>\n",
       "      <td>LauralesLauraceaeCinnamomumcamphora</td>\n",
       "      <td>34</td>\n",
       "    </tr>\n",
       "    <tr>\n",
       "      <th>1</th>\n",
       "      <td>9</td>\n",
       "      <td>FagalesFagaceaeQuercusglauca</td>\n",
       "      <td>33</td>\n",
       "    </tr>\n",
       "    <tr>\n",
       "      <th>2</th>\n",
       "      <td>23</td>\n",
       "      <td>FagalesFagaceaeQuercusglauca</td>\n",
       "      <td>33</td>\n",
       "    </tr>\n",
       "    <tr>\n",
       "      <th>3</th>\n",
       "      <td>29</td>\n",
       "      <td>RosalesCannabaceaeCeltissinensis</td>\n",
       "      <td>29</td>\n",
       "    </tr>\n",
       "    <tr>\n",
       "      <th>4</th>\n",
       "      <td>92</td>\n",
       "      <td>LamialesOleaceaeOsmanthus x fortunei</td>\n",
       "      <td>49</td>\n",
       "    </tr>\n",
       "  </tbody>\n",
       "</table>\n",
       "</div>"
      ],
      "text/plain": [
       "   ID                                   NAME  CLASS\n",
       "0   2    LauralesLauraceaeCinnamomumcamphora     34\n",
       "1   9           FagalesFagaceaeQuercusglauca     33\n",
       "2  23           FagalesFagaceaeQuercusglauca     33\n",
       "3  29       RosalesCannabaceaeCeltissinensis     29\n",
       "4  92  LamialesOleaceaeOsmanthus x fortunei      49"
      ]
     },
     "execution_count": 2,
     "metadata": {},
     "output_type": "execute_result"
    }
   ],
   "source": [
    "df = pd.read_csv(\"labels.csv\")\n",
    "df.head()"
   ]
  },
  {
   "cell_type": "code",
   "execution_count": 23,
   "metadata": {},
   "outputs": [],
   "source": [
    "df.to_csv(\"labels.csv\", index=False)"
   ]
  }
 ],
 "metadata": {
  "kernelspec": {
   "display_name": "Python 3",
   "language": "python",
   "name": "python3"
  },
  "language_info": {
   "codemirror_mode": {
    "name": "ipython",
    "version": 3
   },
   "file_extension": ".py",
   "mimetype": "text/x-python",
   "name": "python",
   "nbconvert_exporter": "python",
   "pygments_lexer": "ipython3",
   "version": "3.6.1"
  }
 },
 "nbformat": 4,
 "nbformat_minor": 2
}
